{
 "cells": [
  {
   "cell_type": "code",
   "execution_count": 5,
   "metadata": {},
   "outputs": [],
   "source": [
    "import torch\n",
    "import numpy as np\n",
    "from tqdm import tqdm"
   ]
  },
  {
   "cell_type": "code",
   "execution_count": 6,
   "metadata": {},
   "outputs": [],
   "source": [
    "from torchvision import datasets\n",
    "from torchvision.transforms import ToTensor\n",
    "\n",
    "# define datasets\n",
    "train_data = datasets.MNIST(\n",
    "    root = 'data',\n",
    "    train = True,                         \n",
    "    transform = ToTensor(), \n",
    "    download = True,            \n",
    "    )\n",
    "\n",
    "test_data = datasets.MNIST(\n",
    "    root = 'data', \n",
    "    train = False, \n",
    "    transform = ToTensor()\n",
    "    )\n",
    "\n",
    "# define dataloader\n",
    "BATCH_SIZE = 4\n",
    "\n",
    "train_loader = torch.utils.data.DataLoader(train_data, BATCH_SIZE, shuffle = True, drop_last = True)\n",
    "\n",
    "test_loader = torch.utils.data.DataLoader(test_data, BATCH_SIZE)"
   ]
  },
  {
   "cell_type": "code",
   "execution_count": 53,
   "metadata": {},
   "outputs": [
    {
     "data": {
      "text/plain": [
       "CNN(\n",
       "  (conv1): Conv2d(1, 16, kernel_size=(3, 3), stride=(1, 1), padding=same)\n",
       "  (conv2): Conv2d(16, 32, kernel_size=(3, 3), stride=(1, 1), padding=same)\n",
       "  (out): Linear(in_features=1568, out_features=32, bias=True)\n",
       ")"
      ]
     },
     "execution_count": 53,
     "metadata": {},
     "output_type": "execute_result"
    }
   ],
   "source": [
    "# load in model\n",
    "from train import CNN\n",
    "model = torch.load('simclrtest.pt')\n",
    "model.eval()"
   ]
  },
  {
   "cell_type": "code",
   "execution_count": 54,
   "metadata": {},
   "outputs": [
    {
     "name": "stderr",
     "output_type": "stream",
     "text": [
      "100%|██████████| 15000/15000 [00:14<00:00, 1031.03it/s]\n"
     ]
    }
   ],
   "source": [
    "laten_outs = []\n",
    "# train cluster\n",
    "for images, labels in tqdm(train_loader):\n",
    "    # infer on model and convert to numpy\n",
    "    laten_spaces = model(images).cpu().detach().numpy()\n",
    "\n",
    "    # append laten_spaces to laten_outs\n",
    "    laten_outs.append(laten_spaces)"
   ]
  },
  {
   "cell_type": "code",
   "execution_count": 55,
   "metadata": {},
   "outputs": [],
   "source": [
    "vectors = np.concatenate(laten_outs)\n",
    "\n",
    "# train kmeans on vectors \n",
    "\n",
    "from sklearn.cluster import KMeans\n",
    "kmeans = KMeans(n_clusters = 300, max_iter = 1000).fit(vectors)"
   ]
  },
  {
   "cell_type": "code",
   "execution_count": 67,
   "metadata": {},
   "outputs": [
    {
     "name": "stderr",
     "output_type": "stream",
     "text": [
      "100%|██████████| 15000/15000 [00:19<00:00, 750.12it/s]\n"
     ]
    }
   ],
   "source": [
    "# evalute clusters on test\n",
    "clusters = []\n",
    "known_values = []\n",
    "\n",
    "# iterate over each batch\n",
    "for images, labels in tqdm(train_loader):\n",
    "\n",
    "    # infer on model\n",
    "    laten_spaces = model(images)\n",
    "\n",
    "    # predict cluster \n",
    "    preds = kmeans.predict(laten_spaces.cpu().detach().numpy())\n",
    "\n",
    "    # add each predicion to clusters\n",
    "    clusters.append(preds)\n",
    "\n",
    "    # add each label to known values \n",
    "    known_values.append(labels.cpu().detach().numpy())\n",
    "\n",
    "known_values = np.concatenate(known_values)\n",
    "clusters = np.concatenate(clusters)"
   ]
  },
  {
   "cell_type": "code",
   "execution_count": 68,
   "metadata": {},
   "outputs": [],
   "source": [
    "import pandas as pd\n",
    "\n",
    "df = pd.DataFrame({'Values': known_values, 'Cluster': clusters})"
   ]
  },
  {
   "cell_type": "code",
   "execution_count": 73,
   "metadata": {},
   "outputs": [],
   "source": [
    "from scipy.stats import entropy\n",
    "E = df.groupby('Cluster')['Values'].apply(lambda x : entropy(x.value_counts(), base=2)).reset_index()"
   ]
  },
  {
   "cell_type": "code",
   "execution_count": 77,
   "metadata": {},
   "outputs": [
    {
     "data": {
      "text/plain": [
       "<AxesSubplot:>"
      ]
     },
     "execution_count": 77,
     "metadata": {},
     "output_type": "execute_result"
    },
    {
     "data": {
      "image/png": "[encoded data removed]",
      "text/plain": [
       "<Figure size 432x288 with 1 Axes>"
      ]
     },
     "metadata": {
      "needs_background": "light"
     },
     "output_type": "display_data"
    }
   ],
   "source": [
    "E['Values'].hist()"
   ]
  }
 ],
 "metadata": {
  "interpreter": {
   "hash": "208af9daca7244bc307c856959856af182492b20a8a60620ec04a79d87aa7eb9"
  },
  "kernelspec": {
   "display_name": "Python 3.9.7 ('torch_p37')",
   "language": "python",
   "name": "python3"
  },
  "language_info": {
   "codemirror_mode": {
    "name": "ipython",
    "version": 3
   },
   "file_extension": ".py",
   "mimetype": "text/x-python",
   "name": "python",
   "nbconvert_exporter": "python",
   "pygments_lexer": "ipython3",
   "version": "3.9.7"
  },
  "orig_nbformat": 4
 },
 "nbformat": 4,
 "nbformat_minor": 2
}
